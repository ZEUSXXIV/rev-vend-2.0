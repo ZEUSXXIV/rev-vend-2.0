{
 "cells": [
  {
   "cell_type": "code",
   "execution_count": 1,
   "metadata": {},
   "outputs": [
    {
     "name": "stdout",
     "output_type": "stream",
     "text": [
      "[[1]]\n",
      "no bottle\n"
     ]
    }
   ],
   "source": [
    "import cv2 #pip install opencv-python\n",
    "import sys\n",
    "from tkinter import *\n",
    "#import matplotlib.pyplot as plt #pip install matplotlib\n",
    "\n",
    "root = Tk()\n",
    "\n",
    "config_file = 'ssd_mobilenet_v3_large_coco_2020_01_14.pbtxt' #file names\n",
    "frozen_model = 'frozen_inference_graph.pb'\n",
    "\n",
    "\n",
    "model = cv2.dnn_DetectionModel(frozen_model,config_file) #load the model\n",
    "\n",
    "\n",
    "classLabels = [] #empty list\n",
    "file_name = 'labels.txt' # list of classes in coco dataset\n",
    "with open(file_name,'rt') as fpt:\n",
    "    classLabels = fpt.read().rstrip('\\n').rsplit('\\n')\n",
    "    \n",
    "model.setInputSize(320,320)  # in config file specification\n",
    "model.setInputScale(1/127.5) #255/2\n",
    "model.setInputMean((127.5,127.5,127.5))  # mobile net takes input as [-1,1]\n",
    "model.setInputSwapRB(True)\n",
    "\n",
    "def save_image():\n",
    "\n",
    "    cap = cv2.VideoCapture(0)\n",
    "\n",
    "    success,img = cap.read()\n",
    "\n",
    "    cv2.imshow('image',img)\n",
    "    cv2.waitKey(1)\n",
    "    cv2.imwrite('test.png',img)\n",
    "\n",
    "    cap.release()\n",
    "    cv2.destroyAllWindows()\n",
    "\n",
    "    \n",
    "def scan_image():\n",
    "    img = cv2.imread('test.png')\n",
    "\n",
    "    classIndex , confidece, bbox = model.detect(img,confThreshold= 0.5 )\n",
    "    print(classIndex)\n",
    "    bool = False\n",
    "    for item in classIndex:\n",
    "        if item==44:\n",
    "            print(\"bottle\")\n",
    "            bool = True\n",
    "            break\n",
    "        if bool == False:\n",
    "            print(\"no bottle\")\n",
    "            \n",
    "def add():\n",
    "    save_image()\n",
    "    scan_image()\n",
    "    \n",
    "def terminate():\n",
    "    sys.exit()\n",
    "\n",
    "    \n",
    "b1=Button(root,command=add,bg='gray',activebackground='blue',text='ADD')\n",
    "b1.grid(row=0,column=0)   \n",
    "\n",
    "\n",
    "#save_image()   \n",
    "#terminate()\n",
    "#scan_image()\n",
    "\n",
    "\n",
    "root.mainloop()\n"
   ]
  },
  {
   "cell_type": "code",
   "execution_count": null,
   "metadata": {},
   "outputs": [],
   "source": []
  }
 ],
 "metadata": {
  "kernelspec": {
   "display_name": "Python 3",
   "language": "python",
   "name": "python3"
  },
  "language_info": {
   "codemirror_mode": {
    "name": "ipython",
    "version": 3
   },
   "file_extension": ".py",
   "mimetype": "text/x-python",
   "name": "python",
   "nbconvert_exporter": "python",
   "pygments_lexer": "ipython3",
   "version": "3.8.5"
  }
 },
 "nbformat": 4,
 "nbformat_minor": 4
}
